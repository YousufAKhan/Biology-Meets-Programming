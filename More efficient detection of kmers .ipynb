{
 "cells": [
  {
   "cell_type": "code",
   "execution_count": 13,
   "metadata": {},
   "outputs": [],
   "source": [
    "import time\n",
    "def mostFreqK1(seq,k):\n",
    "    t0 = time.time()\n",
    "    kmers = {}\n",
    "    for i in range(len(seq)-k+1):\n",
    "        temp = seq[i:i+k]\n",
    "        if temp in kmers:\n",
    "            kmers[temp] +=1\n",
    "        else:\n",
    "            kmers[temp] = 1\n",
    "    #Yousuf's Approach \n",
    "    n = max(kmers.values())\n",
    "    highestfreq = []\n",
    "    for key,value in kmers.items():\n",
    "        if value == n:\n",
    "            highestfreq.append(key)\n",
    "    t1 = time.time()\n",
    "    print('This function took', (t1-t0) ,'seconds to complete')\n",
    "    return highestfreq"
   ]
  },
  {
   "cell_type": "code",
   "execution_count": 14,
   "metadata": {},
   "outputs": [],
   "source": [
    "def mostFreqK2(seq,k):\n",
    "    t0 = time.time()\n",
    "    kmers = {}\n",
    "    for i in range(len(seq)-k+1):\n",
    "        temp = seq[i:i+k]\n",
    "        if temp in kmers:\n",
    "            kmers[temp] +=1\n",
    "        else:\n",
    "            kmers[temp] = 1\n",
    "    #Jason's Approach \n",
    "    n = -1\n",
    "    highestFreq = []\n",
    "    for key,value in kmers.items():\n",
    "        if value >= n:\n",
    "            if value !=n:\n",
    "                n = value\n",
    "                highestFreq = [key]\n",
    "            else:\n",
    "                highestFreq.append(key)\n",
    "    t1 = time.time()\n",
    "    print('This function took', t1-t0 ,'seconds to complete')\n",
    "    return highestFreq"
   ]
  },
  {
   "cell_type": "code",
   "execution_count": 15,
   "metadata": {},
   "outputs": [],
   "source": [
    "seq = 'CGCCTAAATAGCCTCGCGGAGCCTTATGTCATACTCGTCCT'"
   ]
  },
  {
   "cell_type": "code",
   "execution_count": 16,
   "metadata": {},
   "outputs": [
    {
     "name": "stdout",
     "output_type": "stream",
     "text": [
      "This function took 0.0 seconds to complete\n"
     ]
    },
    {
     "data": {
      "text/plain": [
       "['CCT']"
      ]
     },
     "execution_count": 16,
     "metadata": {},
     "output_type": "execute_result"
    }
   ],
   "source": [
    "k = 3\n",
    "mostFreqK1(seq,k)"
   ]
  },
  {
   "cell_type": "code",
   "execution_count": null,
   "metadata": {},
   "outputs": [],
   "source": []
  }
 ],
 "metadata": {
  "kernelspec": {
   "display_name": "Python 3",
   "language": "python",
   "name": "python3"
  },
  "language_info": {
   "codemirror_mode": {
    "name": "ipython",
    "version": 3
   },
   "file_extension": ".py",
   "mimetype": "text/x-python",
   "name": "python",
   "nbconvert_exporter": "python",
   "pygments_lexer": "ipython3",
   "version": "3.6.4"
  }
 },
 "nbformat": 4,
 "nbformat_minor": 2
}
