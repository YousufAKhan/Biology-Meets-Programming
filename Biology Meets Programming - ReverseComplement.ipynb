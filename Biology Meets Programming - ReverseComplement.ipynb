{
 "cells": [
  {
   "cell_type": "code",
   "execution_count": null,
   "metadata": {},
   "outputs": [],
   "source": [
    "# Input:  A DNA string Pattern\n",
    "# Output: The complementary string of Pattern (with every nucleotide replaced by its complement).\n",
    "def Complement(Pattern):\n",
    "    ComplementStr = \"\"\n",
    "    for char in Pattern:\n",
    "        if char == 'A':\n",
    "            ComplementStr = ComplementStr + 'T'\n",
    "        elif char == 'T':\n",
    "            ComplementStr = ComplementStr + 'A'\n",
    "        elif char == 'C':\n",
    "            ComplementStr = ComplementStr + 'G'\n",
    "        else:\n",
    "            ComplementStr = ComplementStr + 'C'\n",
    "    return ComplementStr"
   ]
  },
  {
   "cell_type": "code",
   "execution_count": null,
   "metadata": {},
   "outputs": [],
   "source": [
    "# Input:  A string Pattern\n",
    "# Output: The reverse of Pattern\n",
    "def Reverse(Pattern):\n",
    "    ReversePattern = \"\"\n",
    "    for char in Pattern:\n",
    "        ReversePattern = char + ReversePattern\n",
    "    return ReversePattern"
   ]
  },
  {
   "cell_type": "code",
   "execution_count": null,
   "metadata": {},
   "outputs": [],
   "source": [
    "def ReverseComplement(Pattern):   \n",
    "    Rev = Reverse(Pattern)\n",
    "    RevComp = Complement(Rev)\n",
    "    return RevComp"
   ]
  }
 ],
 "metadata": {
  "kernelspec": {
   "display_name": "Python 3",
   "language": "python",
   "name": "python3"
  },
  "language_info": {
   "codemirror_mode": {
    "name": "ipython",
    "version": 3
   },
   "file_extension": ".py",
   "mimetype": "text/x-python",
   "name": "python",
   "nbconvert_exporter": "python",
   "pygments_lexer": "ipython3",
   "version": "3.6.4"
  }
 },
 "nbformat": 4,
 "nbformat_minor": 2
}
