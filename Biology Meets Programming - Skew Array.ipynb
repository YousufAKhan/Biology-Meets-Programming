{
 "cells": [
  {
   "cell_type": "code",
   "execution_count": 1,
   "metadata": {},
   "outputs": [],
   "source": [
    "#This will return a list that for each i-th nucleotide, what the current\n",
    "#difference is between G and C. \n",
    "def SkewArray(genome):\n",
    "    array = {}\n",
    "    n = len(genome)\n",
    "    array[0] = 0\n",
    "    for i in range (1, n+1):\n",
    "        if genome[i-1] == 'A' or genome[i-1] == 'T':\n",
    "            #Aka, if we get a nucleotide we don't care about, we make the new \n",
    "            #value equal to the previous value, i.e. no change in the count\n",
    "            array[i] = array[i-1]\n",
    "        if genome[i-1] == 'G':\n",
    "            array[i] = array[i-1]+1\n",
    "        if genome[i-1]== 'C':\n",
    "            array[i] = array[i-1]-1\n",
    "    listValue =[]\n",
    "    for key,values in array.items():\n",
    "        listValue.append(values)\n",
    "    return listValue\n",
    "    \n",
    "    "
   ]
  },
  {
   "cell_type": "code",
   "execution_count": 2,
   "metadata": {},
   "outputs": [],
   "source": [
    "def MinimumSkew(genome):\n",
    "    valueList = SkewArray(genome)\n",
    "    lowestNum = min(valueList)\n",
    "    positions = []\n",
    "    for x in range(0, len(valueList)):\n",
    "        if valueList[x] == lowestNum:\n",
    "            positions.append(x)\n",
    "    return positions"
   ]
  },
  {
   "cell_type": "code",
   "execution_count": 3,
   "metadata": {},
   "outputs": [],
   "source": [
    "def MaxSkew(genome):\n",
    "    valueList = SkewArray(genome)\n",
    "    highestNum = max(valueList)\n",
    "    positions = []\n",
    "    for x in range(0, len(valueList)):\n",
    "        if valueList[x] == highestNum:\n",
    "            positions.append(x)\n",
    "    return positions"
   ]
  },
  {
   "cell_type": "code",
   "execution_count": 4,
   "metadata": {},
   "outputs": [
    {
     "data": {
      "text/plain": [
       "[1, 2, 3, 4]"
      ]
     },
     "execution_count": 4,
     "metadata": {},
     "output_type": "execute_result"
    }
   ],
   "source": [
    "#Test\n",
    "#Output = 0 -1 -1 -1 0 1 2 1 1 1 0 1 2 1 0 0 0 0 -1 0 -1 -2\n",
    "#SkewArray('TAAAGACTGCCGAGAGGCCAACACGAGTGCTAGAACGAGGGGCGTAAACGCGGGTCCGAT')\n",
    "MinimumSkew('GATACACTTCCCGAGTAGGTACTG')\n",
    "MaxSkew('GATACACTTCCCGAGTAGGTACTG')\n"
   ]
  },
  {
   "cell_type": "code",
   "execution_count": null,
   "metadata": {},
   "outputs": [],
   "source": []
  },
  {
   "cell_type": "code",
   "execution_count": null,
   "metadata": {},
   "outputs": [],
   "source": []
  }
 ],
 "metadata": {
  "kernelspec": {
   "display_name": "Python 3",
   "language": "python",
   "name": "python3"
  },
  "language_info": {
   "codemirror_mode": {
    "name": "ipython",
    "version": 3
   },
   "file_extension": ".py",
   "mimetype": "text/x-python",
   "name": "python",
   "nbconvert_exporter": "python",
   "pygments_lexer": "ipython3",
   "version": "3.6.4"
  }
 },
 "nbformat": 4,
 "nbformat_minor": 2
}
