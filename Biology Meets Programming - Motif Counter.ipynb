{
 "cells": [
  {
   "cell_type": "code",
   "execution_count": 84,
   "metadata": {},
   "outputs": [],
   "source": [
    "##Yousuf's Method. The input is meant to be a list of equal-sized k-mers and the goal is figure out the total of number of \n",
    "## nucleotide counts at each posiiton and return that as a dictionary of lists (each list is a different nucleotide)\n",
    "def Count(Motifs):\n",
    "    #I am creating a dictionary of nucleotides which will contain a list of nt frequency at each position\n",
    "    count = {\"A\": [], \"C\": [], \"G\": [], \"T\": []}\n",
    "    #d represents the number of different sequences I want to find the motif in\n",
    "    d = len(Motifs)\n",
    "    #k represents the length of the kmer I'm looking at... since all of them are the same length I'm just looking at\n",
    "    #the first one\n",
    "    k = len(Motifs[0])\n",
    "    #I am first iterating through the positions of each motif, starting at position zero and ending with the final position k\n",
    "    for i in range(k):\n",
    "        A = 0\n",
    "        T = 0\n",
    "        C = 0\n",
    "        G = 0\n",
    "        #I am iterating through every string at position i and will add up how many nucleotides go to what then append the \n",
    "        #number to the list\n",
    "        for kmer_number,kmer in enumerate(Motifs):\n",
    "            if kmer[i] == \"A\":\n",
    "                A +=1\n",
    "            if kmer[i] == \"T\":\n",
    "                T +=1\n",
    "            if kmer[i] == \"C\":\n",
    "                C +=1\n",
    "            if kmer[i] == \"G\":\n",
    "                G+=1\n",
    "            if kmer_number == len(Motifs)-1:\n",
    "                count[\"A\"].append(A)\n",
    "                count[\"T\"].append(T)\n",
    "                count[\"C\"].append(C)\n",
    "                count[\"G\"].append(G)\n",
    "    return count"
   ]
  },
  {
   "cell_type": "code",
   "execution_count": 85,
   "metadata": {},
   "outputs": [],
   "source": [
    "##Using the hints/advice given to me by the program, I will design this second \n",
    "\n",
    "def Count2(Motifs):\n",
    "    #Making an empty dictionary\n",
    "    count = {}\n",
    "    #Creating the dictionary with the appropriate number of zeros in every position for every nucleotide already inputted\n",
    "    #k is th length of the motif. Each motif is the same length so we can just use the first one\n",
    "    #The list iterates through the 4 nucleotides of life, ACGT and creates an empty list [] with the key being the symbol\n",
    "    #Once an empty list is created with the key as the nucleotide symbol, a list of zeros is added\n",
    "    #The number of zeros corresponds to k\n",
    "    k = len(Motifs[0])\n",
    "    for symbol in \"ACGT\":\n",
    "        count[symbol] = []\n",
    "        for j in range(k):\n",
    "             count[symbol].append(0)\n",
    "    #t is the number of motifs we need t count\n",
    "    t = len(Motifs)\n",
    "    #iterating from 0 the the max number of sequences\n",
    "    for i in range(t):\n",
    "        #For each motif, we will iterate through the length\n",
    "        for j in range(k):\n",
    "            #We are going to read what the nucleotide is at the motif we're looking at --> i and what position --> j\n",
    "            symbol = Motifs[i][j]\n",
    "            #add +1 to the dictionary \n",
    "            count[symbol][j] += 1\n",
    "    return count"
   ]
  },
  {
   "cell_type": "code",
   "execution_count": 86,
   "metadata": {},
   "outputs": [],
   "source": [
    "#This is a program that will normalize the nucleotide counts at each position to a decimal frequency \n",
    "def Profile(Motifs):\n",
    "    #number of motifs we have to count\n",
    "    t = len(Motifs)\n",
    "    #length of each motif..all of them are the same length so we just count the length of the first one\n",
    "    k = len(Motifs[0])\n",
    "    #getting our raw nucleotide counts from the count program\n",
    "    count = Count(Motifs)\n",
    "    #setting up a new dictionary using the technique from count2 where all the positions are 0's\n",
    "    normalized_count = {}\n",
    "    for symbol in \"ACGT\":\n",
    "        normalized_count[symbol] = []\n",
    "        for j in range(k):\n",
    "             normalized_count[symbol].append(0)\n",
    "    #iterating through all the positions starting from 0\n",
    "    for position in range(k):\n",
    "        total = 0\n",
    "        #count the total number of nucleotide counts at each position\n",
    "        for nt in \"ACGT\":\n",
    "            total += count[nt][position]\n",
    "        #divide the raw nucleotide total by the total number of all nucleotides\n",
    "        for nt in \"ACGT\":\n",
    "            normalized_count[nt][position] = float(count[nt][position])/total\n",
    "    return normalized_count\n",
    "        "
   ]
  },
  {
   "cell_type": "code",
   "execution_count": 87,
   "metadata": {},
   "outputs": [],
   "source": [
    "#This is a program that will give me back a consensus sequence based on count\n",
    "def Consensus(Motifs):\n",
    "    consensus = \"\"\n",
    "    k = len(Motifs[0])\n",
    "    count = Count(Motifs)\n",
    "    for position in range(k):\n",
    "        max = 0\n",
    "        max_nt = ''\n",
    "        for nt in \"ACGT\":\n",
    "            if count[nt][position] > max:\n",
    "                max = count[nt][position]\n",
    "                max_nt = nt\n",
    "        consensus += max_nt\n",
    "    return consensus\n"
   ]
  },
  {
   "cell_type": "code",
   "execution_count": 90,
   "metadata": {},
   "outputs": [],
   "source": [
    "#This is a program that will score the consensus sequence based on how many nucleotides DO NOT match the consensus sequence\n",
    "def Score(Motifs):\n",
    "    consensus = Consensus(Motifs)\n",
    "    count = Count(Motifs)\n",
    "    k = len(Motifs[0])\n",
    "    score = 0\n",
    "    max_score = k*len(Motifs)\n",
    "    for position in range(k):\n",
    "        current_nt = consensus[position]\n",
    "        score += count[current_nt][position]\n",
    "    return max_score-score\n",
    "        "
   ]
  },
  {
   "cell_type": "code",
   "execution_count": 91,
   "metadata": {},
   "outputs": [
    {
     "name": "stdout",
     "output_type": "stream",
     "text": [
      "14\n"
     ]
    }
   ],
   "source": [
    "##Testing set\n",
    "Motifs = [\"AACGTA\", \"CCCGTT\", \"CACCTT\", \"GGATTA\", \"TTCCGG\"]\n",
    "print(Score(Motifs))"
   ]
  },
  {
   "cell_type": "code",
   "execution_count": null,
   "metadata": {},
   "outputs": [],
   "source": []
  },
  {
   "cell_type": "code",
   "execution_count": null,
   "metadata": {},
   "outputs": [],
   "source": []
  }
 ],
 "metadata": {
  "kernelspec": {
   "display_name": "Python 3",
   "language": "python",
   "name": "python3"
  },
  "language_info": {
   "codemirror_mode": {
    "name": "ipython",
    "version": 3
   },
   "file_extension": ".py",
   "mimetype": "text/x-python",
   "name": "python",
   "nbconvert_exporter": "python",
   "pygments_lexer": "ipython3",
   "version": "3.6.4"
  }
 },
 "nbformat": 4,
 "nbformat_minor": 2
}
