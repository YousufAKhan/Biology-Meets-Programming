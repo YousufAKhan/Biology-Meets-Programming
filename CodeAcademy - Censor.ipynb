{
 "cells": [
  {
   "cell_type": "code",
   "execution_count": 64,
   "metadata": {},
   "outputs": [],
   "source": [
    "def censor(text,word):\n",
    "  asteriks = len(word)*\"*\"\n",
    "  newText = \"\"\n",
    "  wordList = []\n",
    "  currentWord = \"\"\n",
    "  for index,chr in enumerate(text):\n",
    "    if index == len(text)-1:\n",
    "        currentWord = currentWord + chr\n",
    "        wordList.append(currentWord)\n",
    "    elif chr != \" \":\n",
    "      currentWord = currentWord + chr\n",
    "    else:\n",
    "      wordList.append(currentWord)\n",
    "      currentWord = \"\"\n",
    "  \n",
    "  print(wordList)\n",
    "  for i in range(len(wordList)):\n",
    "        if wordList[i] == word:\n",
    "            wordList[i] = asteriks\n",
    "            print(wordList[i])\n",
    "  for index,item in enumerate(wordList):\n",
    "    if index != len(wordList)-1:\n",
    "        word = item+\" \"\n",
    "        newText += word\n",
    "    else:\n",
    "        word = item\n",
    "        newText += word\n",
    "  return newText"
   ]
  },
  {
   "cell_type": "code",
   "execution_count": 65,
   "metadata": {},
   "outputs": [
    {
     "name": "stdout",
     "output_type": "stream",
     "text": [
      "['Hey', 'Hey']\n",
      "***\n",
      "***\n"
     ]
    },
    {
     "data": {
      "text/plain": [
       "'*** ***'"
      ]
     },
     "execution_count": 65,
     "metadata": {},
     "output_type": "execute_result"
    }
   ],
   "source": [
    "censor(\"Hey Hey\",\"Hey\")"
   ]
  },
  {
   "cell_type": "code",
   "execution_count": null,
   "metadata": {},
   "outputs": [],
   "source": []
  }
 ],
 "metadata": {
  "kernelspec": {
   "display_name": "Python 3",
   "language": "python",
   "name": "python3"
  },
  "language_info": {
   "codemirror_mode": {
    "name": "ipython",
    "version": 3
   },
   "file_extension": ".py",
   "mimetype": "text/x-python",
   "name": "python",
   "nbconvert_exporter": "python",
   "pygments_lexer": "ipython3",
   "version": "3.6.4"
  }
 },
 "nbformat": 4,
 "nbformat_minor": 2
}
