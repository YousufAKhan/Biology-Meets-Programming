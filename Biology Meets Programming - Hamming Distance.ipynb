{
 "cells": [
  {
   "cell_type": "code",
   "execution_count": 27,
   "metadata": {},
   "outputs": [],
   "source": [
    "##This code determines the number of mismatches between two strings\n",
    "def HammingDistance(p,q):\n",
    "    count = 0\n",
    "    for x in range(0, len(p)):\n",
    "        if p[x] != q[x]:\n",
    "            count +=1\n",
    "    return count\n"
   ]
  },
  {
   "cell_type": "code",
   "execution_count": 28,
   "metadata": {},
   "outputs": [],
   "source": [
    "def ApproximatePatternMatching(Pattern, Text, d):\n",
    "    positions = []\n",
    "    extendedText = Text + Text[0:len(Text)//2]\n",
    "    window = len(Pattern)\n",
    "    for i in range(0, len(Text)-window+1):\n",
    "        currentWindow = extendedText[i:i+window]\n",
    "        mismatch = HammingDistance(Pattern,currentWindow)\n",
    "        if mismatch <= d:\n",
    "            positions.append(i)\n",
    "    ##return positions\n",
    "    return len(positions)"
   ]
  },
  {
   "cell_type": "code",
   "execution_count": 29,
   "metadata": {},
   "outputs": [
    {
     "data": {
      "text/plain": [
       "[3, 36, 74]"
      ]
     },
     "execution_count": 29,
     "metadata": {},
     "output_type": "execute_result"
    }
   ],
   "source": [
    "Pattern = 'AATCCTTTCA'\n",
    "Text = 'CCAAATCCCCTCATGGCATGCATTCCCGCAGTATTTAATCCTTTCATTCTGCATATAAGTAGTGAAGGTATAGAAACCCGTTCAAGCCCGCAGCGGTAAAACCGAGAACCATGATGAATGCACGGCGATTGCGCCATAATCCAAAC'\n",
    "d = 3\n",
    "ApproximatePatternMatching(Pattern, Text, d)"
   ]
  },
  {
   "cell_type": "code",
   "execution_count": null,
   "metadata": {},
   "outputs": [],
   "source": []
  }
 ],
 "metadata": {
  "kernelspec": {
   "display_name": "Python 3",
   "language": "python",
   "name": "python3"
  },
  "language_info": {
   "codemirror_mode": {
    "name": "ipython",
    "version": 3
   },
   "file_extension": ".py",
   "mimetype": "text/x-python",
   "name": "python",
   "nbconvert_exporter": "python",
   "pygments_lexer": "ipython3",
   "version": "3.6.4"
  }
 },
 "nbformat": 4,
 "nbformat_minor": 2
}
